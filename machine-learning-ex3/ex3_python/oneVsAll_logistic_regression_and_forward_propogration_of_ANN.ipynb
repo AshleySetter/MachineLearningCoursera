{
 "cells": [
  {
   "cell_type": "markdown",
   "metadata": {},
   "source": [
    "# One-VS-All Logistic Regression and Forward Propogation of an Artificial Neural Network"
   ]
  },
  {
   "cell_type": "code",
   "execution_count": 85,
   "metadata": {
    "collapsed": true
   },
   "outputs": [],
   "source": [
    "%matplotlib inline\n",
    "import numpy as np\n",
    "import matplotlib.pyplot as plt\n",
    "import pandas as pd\n",
    "import scipy.optimize\n",
    "import scipy.io\n"
   ]
  },
  {
   "cell_type": "markdown",
   "metadata": {},
   "source": [
    "## One-Vs-All Logistic Regression \n",
    "### (i.e. with multiplier target classifications)"
   ]
  },
  {
   "cell_type": "markdown",
   "metadata": {},
   "source": [
    "First we load the data"
   ]
  },
  {
   "cell_type": "code",
   "execution_count": 86,
   "metadata": {
    "collapsed": false
   },
   "outputs": [],
   "source": [
    "X = scipy.io.loadmat('X.mat')\n",
    "X = X['X']\n",
    "y = scipy.io.loadmat('y.mat')\n",
    "y = y['y'].flatten()"
   ]
  },
  {
   "cell_type": "code",
   "execution_count": 238,
   "metadata": {
    "collapsed": true
   },
   "outputs": [],
   "source": [
    "def display(X):\n",
    "    X_reshaped = X.reshape(20, 20).transpose()\n",
    "    fig, ax = plt.subplots(figsize=[2, 2])\n",
    "    ax.imshow(X_reshaped)\n",
    "    plt.show()"
   ]
  },
  {
   "cell_type": "markdown",
   "metadata": {},
   "source": [
    "We visualise 10 random feature sets"
   ]
  },
  {
   "cell_type": "code",
   "execution_count": 239,
   "metadata": {
    "collapsed": false,
    "scrolled": false
   },
   "outputs": [
    {
     "data": {
      "image/png": "[encoded data removed]",
      "text/plain": [
       "<matplotlib.figure.Figure at 0x1276854e0>"
      ]
     },
     "metadata": {},
     "output_type": "display_data"
    },
    {
     "name": "stdout",
     "output_type": "stream",
     "text": [
      "10\n"
     ]
    },
    {
     "data": {
      "image/png": "[encoded data removed]",
      "text/plain": [
       "<matplotlib.figure.Figure at 0x129d36550>"
      ]
     },
     "metadata": {},
     "output_type": "display_data"
    },
    {
     "name": "stdout",
     "output_type": "stream",
     "text": [
      "9\n"
     ]
    },
    {
     "data": {
      "image/png": "[encoded data removed]",
      "text/plain": [
       "<matplotlib.figure.Figure at 0x127742400>"
      ]
     },
     "metadata": {},
     "output_type": "display_data"
    },
    {
     "name": "stdout",
     "output_type": "stream",
     "text": [
      "10\n"
     ]
    },
    {
     "data": {
      "image/png": "[encoded data removed]",
      "text/plain": [
       "<matplotlib.figure.Figure at 0x129c99be0>"
      ]
     },
     "metadata": {},
     "output_type": "display_data"
    },
    {
     "name": "stdout",
     "output_type": "stream",
     "text": [
      "3\n"
     ]
    },
    {
     "data": {
      "image/png": "[encoded data removed]",
      "text/plain": [
       "<matplotlib.figure.Figure at 0x129fe7d68>"
      ]
     },
     "metadata": {},
     "output_type": "display_data"
    },
    {
     "name": "stdout",
     "output_type": "stream",
     "text": [
      "4\n"
     ]
    },
    {
     "data": {
      "image/png": "[encoded data removed]",
      "text/plain": [
       "<matplotlib.figure.Figure at 0x129bcdd68>"
      ]
     },
     "metadata": {},
     "output_type": "display_data"
    },
    {
     "name": "stdout",
     "output_type": "stream",
     "text": [
      "9\n"
     ]
    },
    {
     "data": {
      "image/png": "[encoded data removed]",
      "text/plain": [
       "<matplotlib.figure.Figure at 0x129ff3470>"
      ]
     },
     "metadata": {},
     "output_type": "display_data"
    },
    {
     "name": "stdout",
     "output_type": "stream",
     "text": [
      "8\n"
     ]
    },
    {
     "data": {
      "image/png": "[encoded data removed]",
      "text/plain": [
       "<matplotlib.figure.Figure at 0x129b714e0>"
      ]
     },
     "metadata": {},
     "output_type": "display_data"
    },
    {
     "name": "stdout",
     "output_type": "stream",
     "text": [
      "1\n"
     ]
    },
    {
     "data": {
      "image/png": "[encoded data removed]",
      "text/plain": [
       "<matplotlib.figure.Figure at 0x127663c88>"
      ]
     },
     "metadata": {},
     "output_type": "display_data"
    },
    {
     "name": "stdout",
     "output_type": "stream",
     "text": [
      "9\n"
     ]
    },
    {
     "data": {
      "image/png": "[encoded data removed]",
      "text/plain": [
       "<matplotlib.figure.Figure at 0x123ec61d0>"
      ]
     },
     "metadata": {},
     "output_type": "display_data"
    },
    {
     "name": "stdout",
     "output_type": "stream",
     "text": [
      "2\n"
     ]
    }
   ],
   "source": [
    "for n in np.random.randint(0, 5000, 10):\n",
    "    display(X[n])\n",
    "    print(y[n])"
   ]
  },
  {
   "cell_type": "code",
   "execution_count": 89,
   "metadata": {
    "collapsed": false
   },
   "outputs": [],
   "source": [
    "# Setup the parameters you will use for this part of the exercise\n",
    "input_layer_size  = 400;  # 20x20 Input Images of Digits\n",
    "num_labels = 10;          # 10 labels, from 1 to 10\n",
    "                          # (note that we have mapped \"0\" to label 10)\n",
    "m = X.shape[0]\n",
    "n = X.shape[1] + 1"
   ]
  },
  {
   "cell_type": "code",
   "execution_count": 146,
   "metadata": {
    "collapsed": false
   },
   "outputs": [],
   "source": [
    "def sigmoid(theta, X):\n",
    "    \"\"\"\n",
    "    calcuates sigmoid function 1/(1+e^-(theta^T X))\n",
    "    \"\"\"\n",
    "    thetaT_x = np.matmul(theta, X.transpose())\n",
    "    return 1/(1 + np.exp(-thetaT_x))\n",
    "\n",
    "\n",
    "def cost_function(theta, args):\n",
    "    \"\"\"\n",
    "    Calculates the value of the cost function J\n",
    "    \"\"\"\n",
    "    X, y, lamda = args\n",
    "    m = X.shape[0]\n",
    "    hypothesis = sigmoid(theta, X)\n",
    "    J = 1/m*np.sum(-y*np.log(hypothesis) - (1-y)*np.log(1-hypothesis)) \\\n",
    "    + lamda/(2*m)*np.sum(theta[1:]**2)\n",
    "    return J\n",
    "\n",
    "def gradient(theta, args):\n",
    "    \"\"\"\n",
    "    Calculates the value of the gradient of the cost \n",
    "    function with respect to the theta vector\n",
    "    \"\"\"\n",
    "    X, y, lamda = args\n",
    "    m = X.shape[0]\n",
    "    theta_cut = np.copy(theta)\n",
    "    theta_cut[0] = 0\n",
    "    hypothesis = sigmoid(theta, X)\n",
    "    gradient = 1/m*np.sum((hypothesis-y)*X.transpose(), 1) + lamda/m*theta_cut\n",
    "    return gradient"
   ]
  },
  {
   "cell_type": "markdown",
   "metadata": {},
   "source": [
    "We check that above functions are correct with some tests."
   ]
  },
  {
   "cell_type": "code",
   "execution_count": 171,
   "metadata": {
    "collapsed": false
   },
   "outputs": [],
   "source": [
    "theta_t = np.array([-2, -1, 1, 2])\n",
    "X_t = np.concatenate([np.ones(5), np.arange(1, 16, 1)/10])\n",
    "X_t = X_t.reshape([4, 5]).transpose()\n",
    "y_t = np.array([1, 0, 1, 0, 1])\n",
    "lamda_t = 3"
   ]
  },
  {
   "cell_type": "code",
   "execution_count": 173,
   "metadata": {
    "collapsed": false
   },
   "outputs": [
    {
     "data": {
      "text/plain": [
       "2.5348193961097438"
      ]
     },
     "execution_count": 173,
     "metadata": {},
     "output_type": "execute_result"
    }
   ],
   "source": [
    "args = [X_t, y_t, lamda_t]\n",
    "cost_function(theta_t, args)"
   ]
  },
  {
   "cell_type": "markdown",
   "metadata": {},
   "source": [
    "Expected cost: 2.534819"
   ]
  },
  {
   "cell_type": "code",
   "execution_count": 174,
   "metadata": {
    "collapsed": false
   },
   "outputs": [
    {
     "data": {
      "text/plain": [
       "array([ 0.14656137, -0.54855841,  0.72472227,  1.39800296])"
      ]
     },
     "execution_count": 174,
     "metadata": {},
     "output_type": "execute_result"
    }
   ],
   "source": [
    "gradient(theta_t, args)"
   ]
  },
  {
   "cell_type": "markdown",
   "metadata": {},
   "source": [
    "Expected gradients: 0.146561, -0.548558, 0.724722, 1.398003"
   ]
  },
  {
   "cell_type": "markdown",
   "metadata": {},
   "source": [
    "We now have the code to train the 10 classifiers for the 10 possible values of the target variable"
   ]
  },
  {
   "cell_type": "code",
   "execution_count": 208,
   "metadata": {
    "collapsed": false
   },
   "outputs": [],
   "source": [
    "def train_all_vs_one(X, y, num_labels, lamda):    \n",
    "    all_theta = np.zeros([num_labels, n])\n",
    "    X = np.insert(X, 0, 1, 1) # insert column of ones \n",
    "    for k in range(1, num_labels+1):\n",
    "        print(k)\n",
    "        y_k = (y == k).astype(float)\n",
    "        initial_theta = all_theta[k-1, :]\n",
    "        \n",
    "        result = scipy.optimize.minimize(cost_function, \n",
    "        x0=initial_theta, \n",
    "        jac=gradient,\n",
    "        args= [X, y_k, lamda],\n",
    "        method='CG',\n",
    "        options={'disp':True,}\n",
    "        )\n",
    "        theta = result.x\n",
    "        #print(result)\n",
    "        all_theta[k-1, :] = theta\n",
    "    return all_theta"
   ]
  },
  {
   "cell_type": "markdown",
   "metadata": {},
   "source": [
    "We perform the training on our data."
   ]
  },
  {
   "cell_type": "code",
   "execution_count": 209,
   "metadata": {
    "collapsed": false
   },
   "outputs": [
    {
     "name": "stdout",
     "output_type": "stream",
     "text": [
      "1\n",
      "Optimization terminated successfully.\n",
      "         Current function value: 0.013124\n",
      "         Iterations: 104\n",
      "         Function evaluations: 395\n",
      "         Gradient evaluations: 395\n",
      "2\n",
      "Optimization terminated successfully.\n",
      "         Current function value: 0.050819\n",
      "         Iterations: 178\n",
      "         Function evaluations: 545\n",
      "         Gradient evaluations: 545\n",
      "3\n",
      "Optimization terminated successfully.\n",
      "         Current function value: 0.057611\n",
      "         Iterations: 245\n",
      "         Function evaluations: 728\n",
      "         Gradient evaluations: 728\n",
      "4\n",
      "Optimization terminated successfully.\n",
      "         Current function value: 0.033078\n",
      "         Iterations: 218\n",
      "         Function evaluations: 715\n",
      "         Gradient evaluations: 715\n",
      "5\n",
      "Optimization terminated successfully.\n",
      "         Current function value: 0.054460\n",
      "         Iterations: 252\n",
      "         Function evaluations: 745\n",
      "         Gradient evaluations: 745\n",
      "6\n",
      "Optimization terminated successfully.\n",
      "         Current function value: 0.018262\n",
      "         Iterations: 147\n",
      "         Function evaluations: 535\n",
      "         Gradient evaluations: 535\n",
      "7\n",
      "Optimization terminated successfully.\n",
      "         Current function value: 0.030652\n",
      "         Iterations: 179\n",
      "         Function evaluations: 606\n",
      "         Gradient evaluations: 606\n",
      "8\n",
      "Warning: Desired error not necessarily achieved due to precision loss.\n",
      "         Current function value: 0.519344\n",
      "         Iterations: 1\n",
      "         Function evaluations: 14\n",
      "         Gradient evaluations: 2\n",
      "9\n",
      "Optimization terminated successfully.\n",
      "         Current function value: 0.071202\n",
      "         Iterations: 268\n",
      "         Function evaluations: 746\n",
      "         Gradient evaluations: 746\n",
      "10\n",
      "Optimization terminated successfully.\n",
      "         Current function value: 0.008571\n",
      "         Iterations: 111\n",
      "         Function evaluations: 431\n",
      "         Gradient evaluations: 431\n"
     ]
    }
   ],
   "source": [
    "lamda = 0.1\n",
    "all_theta = train_all_vs_one(X, y, 10, lamda)"
   ]
  },
  {
   "cell_type": "code",
   "execution_count": 277,
   "metadata": {
    "collapsed": false
   },
   "outputs": [],
   "source": [
    "def predict(all_theta, X):\n",
    "    X = np.insert(X, 0, 1, 1) # insert column of ones \n",
    "    probabilities = np.matmul(all_theta, X.transpose())\n",
    "    prediction = np.argmax(probabilities, axis=0) + 1 # get index of maximum element for each array of probability predictions for each classifier applied to each dataset (+1 to translate indexing to prediction)\n",
    "    return prediction"
   ]
  },
  {
   "cell_type": "code",
   "execution_count": 278,
   "metadata": {
    "collapsed": false
   },
   "outputs": [],
   "source": [
    "pred_ova = predict(all_theta, X)"
   ]
  },
  {
   "cell_type": "code",
   "execution_count": 279,
   "metadata": {
    "collapsed": false
   },
   "outputs": [
    {
     "name": "stdout",
     "output_type": "stream",
     "text": [
      "Accuracy = 90.4%\n"
     ]
    }
   ],
   "source": [
    "accuracy = np.sum(pred_ova == y)/y.shape[0]\n",
    "print(\"Accuracy = {:.1f}%\".format(accuracy*100))"
   ]
  },
  {
   "cell_type": "markdown",
   "metadata": {},
   "source": [
    "## Forward Propogation of Neural Network"
   ]
  },
  {
   "cell_type": "markdown",
   "metadata": {},
   "source": [
    "#### Here we will perform forward propogation of an already trained neural network."
   ]
  },
  {
   "cell_type": "markdown",
   "metadata": {},
   "source": [
    "First we load the weights for the network."
   ]
  },
  {
   "cell_type": "code",
   "execution_count": 250,
   "metadata": {
    "collapsed": false
   },
   "outputs": [],
   "source": [
    "Theta1 = scipy.io.loadmat('Theta1.mat')\n",
    "Theta1 = Theta1['Theta1']\n",
    "Theta2 = scipy.io.loadmat('Theta2.mat')\n",
    "Theta2 = Theta2['Theta2']"
   ]
  },
  {
   "cell_type": "code",
   "execution_count": 280,
   "metadata": {
    "collapsed": true
   },
   "outputs": [],
   "source": [
    "def sigmoid(z):\n",
    "    \"\"\"\n",
    "    calcuates sigmoid function 1/(1+e^-(z))\n",
    "    \"\"\"\n",
    "    return 1/(1 + np.exp(-z))\n",
    "\n",
    "\n",
    "def predict(Theta1, Theta2, X):\n",
    "    \"\"\"\n",
    "    Perform forward-propogation to calculate the hypothesis \n",
    "    of the neural network for the 10 output layer nodes\n",
    "    and select the largest valued node as the predicted \n",
    "    target variable (i.e. predicted label - the number in the image).\n",
    "    \"\"\"\n",
    "    X = np.insert(X, 0, 1, 1) # insert column of ones \n",
    "\n",
    "    z2 = np.matmul(Theta1, X.transpose())  # calculate product of weights matrix with input layer\n",
    "    a2 = sigmoid(z2); # calculate activation fn of 2nd layer (hidden layer)\n",
    "\n",
    "    # Add ones to the a2 node activation matrix\n",
    "    a2 = np.insert(a2, 0, 1, 0)\n",
    "\n",
    "    z3 = np.matmul(Theta2, a2) # calculate product of weights matrix with 1st hidden layer\n",
    "    h = sigmoid(z3); # calculate hypothesis fn of output layer\n",
    "    \n",
    "    prediction = np.argmax(h, axis=0) + 1 # get index of maximum element for each array of probability predictions for each classifier applied to each dataset (+1 to translate indexing to prediction)\n",
    "\n",
    "    return prediction\n",
    "    \n"
   ]
  },
  {
   "cell_type": "code",
   "execution_count": 281,
   "metadata": {
    "collapsed": false
   },
   "outputs": [],
   "source": [
    "pred_nn = predict(Theta1, Theta2, X)"
   ]
  },
  {
   "cell_type": "code",
   "execution_count": 283,
   "metadata": {
    "collapsed": false
   },
   "outputs": [
    {
     "name": "stdout",
     "output_type": "stream",
     "text": [
      "Accuracy = 97.5%\n"
     ]
    }
   ],
   "source": [
    "accuracy = np.sum(pred_nn == y)/y.shape[0]\n",
    "print(\"Accuracy = {:.1f}%\".format(accuracy*100))"
   ]
  },
  {
   "cell_type": "code",
   "execution_count": null,
   "metadata": {
    "collapsed": true
   },
   "outputs": [],
   "source": []
  }
 ],
 "metadata": {
  "kernelspec": {
   "display_name": "Python 3",
   "language": "python",
   "name": "python3"
  },
  "language_info": {
   "codemirror_mode": {
    "name": "ipython",
    "version": 3
   },
   "file_extension": ".py",
   "mimetype": "text/x-python",
   "name": "python",
   "nbconvert_exporter": "python",
   "pygments_lexer": "ipython3",
   "version": "3.6.0"
  }
 },
 "nbformat": 4,
 "nbformat_minor": 2
}
