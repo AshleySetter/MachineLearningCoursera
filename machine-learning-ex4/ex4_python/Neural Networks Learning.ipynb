{
 "cells": [
  {
   "cell_type": "markdown",
   "metadata": {},
   "source": [
    "# Neural Networks Learning "
   ]
  },
  {
   "cell_type": "code",
   "execution_count": 442,
   "metadata": {
    "collapsed": true
   },
   "outputs": [],
   "source": [
    "%matplotlib inline\n",
    "import numpy as np\n",
    "import matplotlib.pyplot as plt\n",
    "import pandas as pd\n",
    "import scipy.optimize\n",
    "import scipy.io"
   ]
  },
  {
   "cell_type": "code",
   "execution_count": 443,
   "metadata": {
    "collapsed": true
   },
   "outputs": [],
   "source": [
    "X = scipy.io.loadmat('X.mat')\n",
    "X = X['X']\n",
    "y = scipy.io.loadmat('y.mat')\n",
    "y = y['y'].flatten()"
   ]
  },
  {
   "cell_type": "code",
   "execution_count": 444,
   "metadata": {
    "collapsed": true
   },
   "outputs": [],
   "source": [
    "def display(X):\n",
    "    X_reshaped = X.reshape(20, 20).transpose()\n",
    "    fig, ax = plt.subplots(figsize=[2, 2])\n",
    "    ax.imshow(X_reshaped)\n",
    "    plt.show()"
   ]
  },
  {
   "cell_type": "markdown",
   "metadata": {},
   "source": [
    "We visualise 3 random feature sets"
   ]
  },
  {
   "cell_type": "code",
   "execution_count": 445,
   "metadata": {
    "collapsed": false
   },
   "outputs": [
    {
     "data": {
      "image/png": "[encoded data removed]",
      "text/plain": [
       "<matplotlib.figure.Figure at 0x1155e7208>"
      ]
     },
     "metadata": {},
     "output_type": "display_data"
    },
    {
     "name": "stdout",
     "output_type": "stream",
     "text": [
      "8\n"
     ]
    },
    {
     "data": {
      "image/png": "[encoded data removed]",
      "text/plain": [
       "<matplotlib.figure.Figure at 0x119949898>"
      ]
     },
     "metadata": {},
     "output_type": "display_data"
    },
    {
     "name": "stdout",
     "output_type": "stream",
     "text": [
      "5\n"
     ]
    },
    {
     "data": {
      "image/png": "[encoded data removed]",
      "text/plain": [
       "<matplotlib.figure.Figure at 0x119942c88>"
      ]
     },
     "metadata": {},
     "output_type": "display_data"
    },
    {
     "name": "stdout",
     "output_type": "stream",
     "text": [
      "2\n"
     ]
    }
   ],
   "source": [
    "for n in np.random.randint(0, 5000, 3):\n",
    "    display(X[n])\n",
    "    print(y[n])"
   ]
  },
  {
   "cell_type": "code",
   "execution_count": 446,
   "metadata": {
    "collapsed": true
   },
   "outputs": [],
   "source": [
    "# Setup the parameters you will use for this part of the exercise\n",
    "input_layer_size  = 400;  # 20x20 Input Images of Digits\n",
    "num_labels = 10;          # 10 labels, from 1 to 10\n",
    "                          # (note that we have mapped \"0\" to label 10)\n",
    "m = X.shape[0]\n",
    "n = X.shape[1] + 1"
   ]
  },
  {
   "cell_type": "markdown",
   "metadata": {},
   "source": [
    "We write out our prediction function for our Neural Network we will train which is the same as we used in exercise 3."
   ]
  },
  {
   "cell_type": "code",
   "execution_count": 447,
   "metadata": {
    "collapsed": true
   },
   "outputs": [],
   "source": [
    "def sigmoid(z):\n",
    "    \"\"\"\n",
    "    calcuates sigmoid function 1/(1+e^-(z))\n",
    "    \"\"\"\n",
    "    return 1/(1 + np.exp(-z))\n",
    "\n",
    "\n",
    "def predict(Theta1, Theta2, X):\n",
    "    \"\"\"\n",
    "    Perform forward-propogation to calculate the hypothesis \n",
    "    of the neural network for the 10 output layer nodes\n",
    "    and select the largest valued node as the predicted \n",
    "    target variable (i.e. predicted label - the number in the image).\n",
    "    \"\"\"\n",
    "    X = np.insert(X, 0, 1, 1) # insert column of ones \n",
    "\n",
    "    z2 = np.matmul(Theta1, X.transpose())  # calculate product of weights matrix with input layer\n",
    "    a2 = sigmoid(z2); # calculate activation fn of 2nd layer (hidden layer)\n",
    "\n",
    "    # Add ones to the a2 node activation matrix\n",
    "    a2 = np.insert(a2, 0, 1, 0)\n",
    "\n",
    "    z3 = np.matmul(Theta2, a2) # calculate product of weights matrix with 1st hidden layer\n",
    "    h = sigmoid(z3); # calculate hypothesis fn of output layer\n",
    "    \n",
    "    prediction = np.argmax(h, axis=0) + 1 # get index of maximum element for each array of probability predictions for each classifier applied to each dataset (+1 to translate indexing to prediction)\n",
    "\n",
    "    return prediction"
   ]
  },
  {
   "cell_type": "markdown",
   "metadata": {},
   "source": [
    "Now we will write a function to compute the cost function for our parameters/weights $\\Theta$, which are unrolled into a 1D vector."
   ]
  },
  {
   "cell_type": "code",
   "execution_count": 448,
   "metadata": {
    "collapsed": false
   },
   "outputs": [],
   "source": [
    "def cost_function(Theta_vec, args):\n",
    "    \"\"\"\n",
    "    Calculates the value of the cost function J\n",
    "    \"\"\"\n",
    "    X, y, lamda, input_layer_size, hidden_layer_size, num_labels = args\n",
    "    m = X.shape[0]\n",
    "    \n",
    "    # perform one-va-all encoding - map y to matrix of size num_labels*m\n",
    "    y_oh = np.zeros([num_labels, m])\n",
    "    for k in range(0, num_labels):\n",
    "        y_oh[k, :] = y==(k+1)\n",
    "\n",
    "    # --- First is reshaping the theta vector back to the 2 matricies --- \n",
    "\n",
    "    # Theta1 is weights multiplying the input layer (and bias term) to\n",
    "    # give the hidden layer\n",
    "    start = 0\n",
    "    end = (input_layer_size+1)*hidden_layer_size\n",
    "    Theta1 = np.reshape(\n",
    "        Theta_vec[start:end],\n",
    "        [hidden_layer_size, input_layer_size+1], order='F') \n",
    "\n",
    "    # Theta2 is weights multiplying the hidden layer (and bias term)\n",
    "    # to give the output later (which has num_labels elements)\n",
    "    start = end\n",
    "    end = start + num_labels*(hidden_layer_size+1)\n",
    "    Theta2 = np.reshape(\n",
    "        Theta_vec[start:end],\n",
    "        [num_labels, hidden_layer_size+1], order='F') \n",
    "\n",
    "    # ------\n",
    "\n",
    "    X = np.insert(X, 0, 1, 1) # insert column of ones \n",
    "\n",
    "    z2 = np.matmul(Theta1, X.transpose())  # calculate product of weights matrix with input layer\n",
    "    a2 = sigmoid(z2); # calculate activation fn of 2nd layer (hidden layer)\n",
    "\n",
    "    # Add ones to the a2 node activation matrix\n",
    "    a2 = np.insert(a2, 0, 1, 0)\n",
    "\n",
    "    z3 = np.matmul(Theta2, a2) # calculate product of weights matrix with 1st hidden layer\n",
    "    hypothesis = sigmoid(z3); # calculate hypothesis fn of output layer\n",
    "\n",
    "    # calculate value of cost function \n",
    "    J = 1/m*np.sum(-y_oh*np.log(hypothesis) - (1-y_oh)*np.log(1-hypothesis))\n",
    "\n",
    "    # add regularisation term (excepting bias weights)\n",
    "    J += lamda*(np.sum(Theta1[:, 1:]**2) + np.sum(Theta2[:, 1:]**2))/(2*m)\n",
    "\n",
    "    return J"
   ]
  },
  {
   "cell_type": "code",
   "execution_count": 449,
   "metadata": {
    "collapsed": true
   },
   "outputs": [],
   "source": [
    "# Defining Neural Network Size\n",
    "input_layer_size = 400\n",
    "hidden_layer_size = 25\n",
    "num_labels = 10"
   ]
  },
  {
   "cell_type": "markdown",
   "metadata": {},
   "source": [
    "We now test out cost function works correctly without regularisation ($\\lambda = 0$) on a known set of weights (those we used for ex3)"
   ]
  },
  {
   "cell_type": "code",
   "execution_count": 450,
   "metadata": {
    "collapsed": true
   },
   "outputs": [],
   "source": [
    "Theta1 = scipy.io.loadmat('Theta1.mat')\n",
    "Theta1 = Theta1['Theta1']\n",
    "Theta2 = scipy.io.loadmat('Theta2.mat')\n",
    "Theta2 = Theta2['Theta2']\n",
    "\n",
    "def unroll(A, B):\n",
    "    return np.concatenate((A.reshape(A.size, order='F'), B.reshape(B.size, order='F')))\n",
    "\n",
    "Theta_vec = unroll(Theta1, Theta2)"
   ]
  },
  {
   "cell_type": "code",
   "execution_count": 451,
   "metadata": {
    "collapsed": false
   },
   "outputs": [
    {
     "data": {
      "text/plain": [
       "0.28762916516131887"
      ]
     },
     "execution_count": 451,
     "metadata": {},
     "output_type": "execute_result"
    }
   ],
   "source": [
    "lamda = 0\n",
    "args = X, y, lamda, input_layer_size, hidden_layer_size, num_labels \n",
    "cost_function(Theta_vec, args)"
   ]
  },
  {
   "cell_type": "markdown",
   "metadata": {},
   "source": [
    "We expect the answer ~0.287629"
   ]
  },
  {
   "cell_type": "code",
   "execution_count": 452,
   "metadata": {
    "collapsed": false
   },
   "outputs": [
    {
     "data": {
      "text/plain": [
       "0.38376985909092359"
      ]
     },
     "execution_count": 452,
     "metadata": {},
     "output_type": "execute_result"
    }
   ],
   "source": [
    "lamda = 1\n",
    "args = X, y, lamda, input_layer_size, hidden_layer_size, num_labels \n",
    "cost_function(Theta_vec, args)"
   ]
  },
  {
   "cell_type": "markdown",
   "metadata": {},
   "source": [
    "We expect the answer ~0.383770"
   ]
  },
  {
   "cell_type": "code",
   "execution_count": 453,
   "metadata": {
    "collapsed": true
   },
   "outputs": [],
   "source": [
    "def sigmoid_gradient(z):\n",
    "    \"\"\"\n",
    "    calculates the gradient of the sigmoid function.\n",
    "    \"\"\"\n",
    "    return sigmoid(z)*(1-sigmoid(z))"
   ]
  },
  {
   "cell_type": "markdown",
   "metadata": {},
   "source": [
    "We now write a function to generate randomized initial weights to break the symmetry so that the optimal weights can be different."
   ]
  },
  {
   "cell_type": "code",
   "execution_count": 454,
   "metadata": {
    "collapsed": true
   },
   "outputs": [],
   "source": [
    "def randomize_weights(input_layer_size, hidden_layer_size, num_labels, eps=0.12):\n",
    "    \"\"\"\n",
    "    Generate randomized weights vector\n",
    "    \"\"\"\n",
    "    total_size = hidden_layer_size*(input_layer_size+1) + num_labels*(hidden_layer_size+1)\n",
    "    Theta_vec = np.random.uniform(low=-eps_init, high=+eps_init, size=total_size)\n",
    "    return Theta_vec"
   ]
  },
  {
   "cell_type": "markdown",
   "metadata": {},
   "source": [
    "Below we write the function that allows our network to learn - the backpropogation algorithm which solves for the gradient of the cost function."
   ]
  },
  {
   "cell_type": "code",
   "execution_count": 468,
   "metadata": {
    "collapsed": false
   },
   "outputs": [],
   "source": [
    "def gradient(Theta_vec, args):\n",
    "    \"\"\"\n",
    "    Calculates the gradient of the cost function.\n",
    "    \"\"\"\n",
    "    X, y, lamda, input_layer_size, hidden_layer_size, num_labels = args\n",
    "    m = X.shape[0]\n",
    "    \n",
    "    # perform one-va-all encoding - map y to matrix of size num_labels*m\n",
    "    y_oh = np.zeros([num_labels, m])\n",
    "    for k in range(0, num_labels):\n",
    "        y_oh[k, :] = y==(k+1)\n",
    "\n",
    "    # ---- First is reshaping the theta vector back to the 2 matricies\n",
    "\n",
    "    # Theta1 is weights multiplying the input layer (and bias term) to\n",
    "    # give the hidden layer\n",
    "    start = 0\n",
    "    end = (input_layer_size+1)*hidden_layer_size\n",
    "    Theta1 = np.reshape(\n",
    "        Theta_vec[start:end],\n",
    "        [hidden_layer_size, input_layer_size+1], order='F') \n",
    "\n",
    "    # Theta2 is weights multiplying the hidden layer (and bias term)\n",
    "    # to give the output later (which has num_labels elements)\n",
    "    start = end\n",
    "    end = start + num_labels*(hidden_layer_size+1)\n",
    "    Theta2 = np.reshape(\n",
    "        Theta_vec[start:end],\n",
    "        [num_labels, hidden_layer_size+1], order='F') \n",
    "\n",
    "    # ----\n",
    "\n",
    "    X = np.insert(X, 0, 1, 1) # insert column of ones \n",
    "\n",
    "    Delta2 = np.zeros_like(Theta2)\n",
    "    Delta1 = np.zeros_like(Theta1)\n",
    "\n",
    "    for i in range(0, m):\n",
    "        x_i = X[i, :]\n",
    "        y_i = y_oh[:, i]\n",
    "\n",
    "        a1 = x_i\n",
    "\n",
    "        # --- Forward Propogation step ---\n",
    "        \n",
    "        # calculate product of weights matrix with input layer\n",
    "        z2 = np.matmul(Theta1, a1)  \n",
    "\n",
    "        # calculate activation fn of 2nd layer (hidden layer)\n",
    "        a2 = sigmoid(z2); \n",
    "\n",
    "        # Add ones to the a2 node activation matrix\n",
    "        a2 = np.insert(a2, 0, 1, 0)\n",
    "\n",
    "        # calculate product of weights matrix with 1st hidden layer\n",
    "        z3 = np.matmul(Theta2, a2) \n",
    "        \n",
    "        # calculate hypothesis fn of output layer\n",
    "        hypothesis = sigmoid(z3);     \n",
    "        # ------\n",
    "\n",
    "        # --- Backpropogation step to calculate error in nodes output ---\n",
    "        \n",
    "        # error in output layer nodes\n",
    "        delta3 = hypothesis-y_i # error in output layer\n",
    "\n",
    "\n",
    "        # error in hidden layer nodes\n",
    "        gprime_z2 = np.append([0], sigmoid_gradient(z2)) # add zero to front as gradient of the bias activation is 0 (it's always +1)\n",
    "        delta2 = np.matmul(Theta2.transpose(), delta3)*gprime_z2\n",
    "        # remove error in activation of bias node as bias can't be changed from +1\n",
    "        delta2 = delta2[1:] \n",
    "\n",
    "\n",
    "        # acculuate total error in weights from this data point\n",
    "        Delta2 += np.matmul(delta3[np.newaxis].transpose(), a2[np.newaxis])\n",
    "\n",
    "        Delta1 += np.matmul(delta2[np.newaxis].transpose(), a1[np.newaxis])\n",
    "        \n",
    "\n",
    "        # ------\n",
    "\n",
    "    Theta1_grad = Delta1/m # calculate gradient - dJ/d(Theta1)\n",
    "    Theta2_grad = Delta2/m # calculate gradient - dJ/d(Theta2)\n",
    "\n",
    "    # --- adding regularisation terms ---\n",
    "\n",
    "    Theta1_zerobias = np.copy(Theta1)\n",
    "    Theta1_zerobias[:, 0] = 0 # zeros weights multiplying bias a1_0\n",
    "    Theta2_zerobias = np.copy(Theta2)\n",
    "    Theta2_zerobias[:, 0] = 0 # zeros weights multiplying bias a2_0\n",
    "\n",
    "    Theta1_grad += lamda/m*Theta1_zerobias\n",
    "    Theta2_grad += lamda/m*Theta2_zerobias\n",
    "\n",
    "    # ------\n",
    "\n",
    "    # unroll gradient matricies into 1D vector\n",
    "    gradient = unroll(Theta1_grad, Theta2_grad)\n",
    "    \n",
    "    return gradient"
   ]
  },
  {
   "cell_type": "markdown",
   "metadata": {},
   "source": [
    "We now write a function to calculate the gradient numerically, using finite differencing, this is to check that our gradient of the cost function calculated with backpropogation is correct."
   ]
  },
  {
   "cell_type": "code",
   "execution_count": 456,
   "metadata": {
    "collapsed": false
   },
   "outputs": [],
   "source": [
    "def calc_numerical_gradient(Theta_vec, args, eps=1e-4,):\n",
    "    gradient = np.zeros_like(Theta_vec)\n",
    "    for i, _ in enumerate(Theta_vec):\n",
    "        Theta_vec_plus = np.copy(Theta_vec)\n",
    "        Theta_vec_plus[i] += eps\n",
    "        Theta_vec_minus = np.copy(Theta_vec)\n",
    "        Theta_vec_minus[i] -= eps\n",
    "        \n",
    "        gradient[i] = (cost_function(Theta_vec_plus, args) - cost_function(Theta_vec_minus, args))/(2*eps)\n",
    "    return gradient"
   ]
  },
  {
   "cell_type": "markdown",
   "metadata": {},
   "source": [
    "We now calculate the gradient with backpropogation and finite differencing to check our implementation of backpropogation is correct."
   ]
  },
  {
   "cell_type": "code",
   "execution_count": 469,
   "metadata": {
    "collapsed": false
   },
   "outputs": [],
   "source": [
    "input_layer_size_test = 3;\n",
    "hidden_layer_size_test = 5;\n",
    "num_labels_test = 3;\n",
    "m_test = 5;\n",
    "\n",
    "test_vals = scipy.io.loadmat('test_vals.mat')\n",
    "Theta_vec_test = test_vals['nn_params'].flatten()\n",
    "\n",
    "X_test = test_vals['X']\n",
    "y_test = test_vals['y'].flatten()"
   ]
  },
  {
   "cell_type": "markdown",
   "metadata": {},
   "source": [
    "First in the unregularised case:"
   ]
  },
  {
   "cell_type": "code",
   "execution_count": 470,
   "metadata": {
    "collapsed": false
   },
   "outputs": [
    {
     "name": "stdout",
     "output_type": "stream",
     "text": [
      "1.10219466607e-10\n"
     ]
    }
   ],
   "source": [
    "lamda = 0\n",
    "args = X_test, y_test, lamda, input_layer_size_test, hidden_layer_size_test, num_labels_test \n",
    "\n",
    "grad = gradient(Theta_vec_test, args)\n",
    "\n",
    "grad_num = calc_numerical_gradient(Theta_vec_test, args)\n",
    "\n",
    "# for i, gi in enumerate(grad):\n",
    "#     print(\"numerical: {:.6f}  backprop: {:.6f}\".format(grad_num[i], gi))\n",
    "\n",
    "difference = np.sum(abs(grad-grad_num))\n",
    "print(difference)"
   ]
  },
  {
   "cell_type": "markdown",
   "metadata": {},
   "source": [
    "The difference here should be very small."
   ]
  },
  {
   "cell_type": "code",
   "execution_count": 475,
   "metadata": {
    "collapsed": false
   },
   "outputs": [
    {
     "name": "stdout",
     "output_type": "stream",
     "text": [
      "1.21881466725e-10\n"
     ]
    }
   ],
   "source": [
    "lamda = 1\n",
    "args = X_test, y_test, lamda, input_layer_size_test, hidden_layer_size_test, num_labels_test \n",
    "\n",
    "grad = gradient(Theta_vec_test, args)\n",
    "\n",
    "args = X_test, y_test, lamda, input_layer_size_test, hidden_layer_size_test, num_labels_test \n",
    "\n",
    "grad_num = calc_numerical_gradient(Theta_vec_test, args)\n",
    "\n",
    "# for i, gi in enumerate(grad):\n",
    "#     print(\"numerical: {:.6f}  backprop: {:.6f}\".format(grad_num[i], gi))\n",
    "\n",
    "difference = np.sum(abs(grad-grad_num))\n",
    "print(difference)"
   ]
  },
  {
   "cell_type": "markdown",
   "metadata": {},
   "source": [
    "The difference here should also be very small."
   ]
  },
  {
   "cell_type": "markdown",
   "metadata": {},
   "source": [
    "We can now train our Neural Network - i.e. minimize $J(\\Theta)$ over the $\\Theta$ parameters to find our optimal $\\Theta$ parameters / weights for our Neural Network."
   ]
  },
  {
   "cell_type": "code",
   "execution_count": 480,
   "metadata": {
    "collapsed": true
   },
   "outputs": [],
   "source": [
    "def callback(x):\n",
    "    global iterNo\n",
    "    iterNo += 1\n",
    "    print('iteration: {}'.format(iterNo))"
   ]
  },
  {
   "cell_type": "code",
   "execution_count": 487,
   "metadata": {
    "collapsed": false,
    "scrolled": false
   },
   "outputs": [
    {
     "name": "stdout",
     "output_type": "stream",
     "text": [
      "iteration: 1\n",
      "iteration: 2\n",
      "iteration: 3\n",
      "iteration: 4\n",
      "iteration: 5\n",
      "iteration: 6\n",
      "iteration: 7\n",
      "iteration: 8\n",
      "iteration: 9\n",
      "iteration: 10\n",
      "iteration: 11\n",
      "iteration: 12\n",
      "iteration: 13\n",
      "iteration: 14\n",
      "iteration: 15\n",
      "iteration: 16\n",
      "iteration: 17\n",
      "iteration: 18\n",
      "iteration: 19\n",
      "iteration: 20\n",
      "iteration: 21\n",
      "iteration: 22\n",
      "iteration: 23\n",
      "iteration: 24\n",
      "iteration: 25\n",
      "iteration: 26\n",
      "iteration: 27\n",
      "iteration: 28\n",
      "iteration: 29\n",
      "iteration: 30\n",
      "iteration: 31\n",
      "iteration: 32\n",
      "iteration: 33\n",
      "iteration: 34\n",
      "iteration: 35\n",
      "iteration: 36\n",
      "iteration: 37\n",
      "iteration: 38\n",
      "iteration: 39\n",
      "iteration: 40\n",
      "iteration: 41\n",
      "iteration: 42\n",
      "iteration: 43\n",
      "iteration: 44\n",
      "iteration: 45\n",
      "iteration: 46\n",
      "iteration: 47\n",
      "iteration: 48\n",
      "iteration: 49\n",
      "iteration: 50\n",
      "iteration: 51\n"
     ]
    }
   ],
   "source": [
    "iterNo = 0\n",
    "\n",
    "lamda = 1\n",
    "args = [X, y, lamda, input_layer_size, hidden_layer_size, num_labels]\n",
    "\n",
    "initial_Theta_vec = randomize_weights(input_layer_size, hidden_layer_size, num_labels)\n",
    "\n",
    "result = scipy.optimize.minimize(cost_function, \n",
    "        x0=initial_Theta_vec, \n",
    "        jac=gradient,\n",
    "        args=args,\n",
    "        method=\"L-BFGS-B\",\n",
    "        options={'disp':True,\n",
    "        'maxiter':50},\n",
    "        callback=callback,\n",
    "        )\n",
    "Theta_vec_opt = result.x"
   ]
  },
  {
   "cell_type": "code",
   "execution_count": 488,
   "metadata": {
    "collapsed": true
   },
   "outputs": [],
   "source": [
    "start = 0\n",
    "end = (input_layer_size+1)*hidden_layer_size\n",
    "Theta1 = np.reshape(\n",
    "    Theta_vec_opt[start:end],\n",
    "    [hidden_layer_size, input_layer_size+1], order='F') \n",
    "\n",
    "# Theta2 is weights multiplying the hidden layer (and bias term)\n",
    "# to give the output later (which has num_labels elements)\n",
    "start = end\n",
    "end = start + num_labels*(hidden_layer_size+1)\n",
    "Theta2 = np.reshape(\n",
    "    Theta_vec_opt[start:end],\n",
    "    [num_labels, hidden_layer_size+1], order='F') "
   ]
  },
  {
   "cell_type": "code",
   "execution_count": 489,
   "metadata": {
    "collapsed": true
   },
   "outputs": [],
   "source": [
    "pred_nn = predict(Theta1, Theta2, X)"
   ]
  },
  {
   "cell_type": "code",
   "execution_count": 490,
   "metadata": {
    "collapsed": false
   },
   "outputs": [
    {
     "name": "stdout",
     "output_type": "stream",
     "text": [
      "Accuracy = 97.3%\n"
     ]
    }
   ],
   "source": [
    "accuracy = np.sum(pred_nn == y)/y.shape[0]\n",
    "print(\"Accuracy = {:.1f}%\".format(accuracy*100))"
   ]
  },
  {
   "cell_type": "code",
   "execution_count": null,
   "metadata": {
    "collapsed": true
   },
   "outputs": [],
   "source": []
  }
 ],
 "metadata": {
  "kernelspec": {
   "display_name": "Python 3",
   "language": "python",
   "name": "python3"
  },
  "language_info": {
   "codemirror_mode": {
    "name": "ipython",
    "version": 3
   },
   "file_extension": ".py",
   "mimetype": "text/x-python",
   "name": "python",
   "nbconvert_exporter": "python",
   "pygments_lexer": "ipython3",
   "version": "3.6.0"
  }
 },
 "nbformat": 4,
 "nbformat_minor": 2
}
