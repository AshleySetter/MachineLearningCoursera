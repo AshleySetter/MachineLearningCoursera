{
 "cells": [
  {
   "cell_type": "markdown",
   "metadata": {},
   "source": [
    "# Logistic Regression"
   ]
  },
  {
   "cell_type": "code",
   "execution_count": 133,
   "metadata": {
    "collapsed": true
   },
   "outputs": [],
   "source": [
    "%matplotlib inline\n",
    "import numpy as np\n",
    "import matplotlib.pyplot as plt\n",
    "import pandas as pd\n",
    "import scipy.optimize\n"
   ]
  },
  {
   "cell_type": "markdown",
   "metadata": {},
   "source": [
    "Loading the data."
   ]
  },
  {
   "cell_type": "code",
   "execution_count": 32,
   "metadata": {
    "collapsed": false
   },
   "outputs": [],
   "source": [
    "data = pd.read_csv('ex2data1.txt', names=[\"exam1score\", \"exam2score\", \"admission\"])\n"
   ]
  },
  {
   "cell_type": "code",
   "execution_count": 33,
   "metadata": {
    "collapsed": false
   },
   "outputs": [
    {
     "data": {
      "text/html": [
       "<div>\n",
       "<table border=\"1\" class=\"dataframe\">\n",
       "  <thead>\n",
       "    <tr style=\"text-align: right;\">\n",
       "      <th></th>\n",
       "      <th>exam1score</th>\n",
       "      <th>exam2score</th>\n",
       "      <th>admission</th>\n",
       "    </tr>\n",
       "  </thead>\n",
       "  <tbody>\n",
       "    <tr>\n",
       "      <th>0</th>\n",
       "      <td>34.623660</td>\n",
       "      <td>78.024693</td>\n",
       "      <td>0</td>\n",
       "    </tr>\n",
       "    <tr>\n",
       "      <th>1</th>\n",
       "      <td>30.286711</td>\n",
       "      <td>43.894998</td>\n",
       "      <td>0</td>\n",
       "    </tr>\n",
       "    <tr>\n",
       "      <th>2</th>\n",
       "      <td>35.847409</td>\n",
       "      <td>72.902198</td>\n",
       "      <td>0</td>\n",
       "    </tr>\n",
       "    <tr>\n",
       "      <th>3</th>\n",
       "      <td>60.182599</td>\n",
       "      <td>86.308552</td>\n",
       "      <td>1</td>\n",
       "    </tr>\n",
       "    <tr>\n",
       "      <th>4</th>\n",
       "      <td>79.032736</td>\n",
       "      <td>75.344376</td>\n",
       "      <td>1</td>\n",
       "    </tr>\n",
       "  </tbody>\n",
       "</table>\n",
       "</div>"
      ],
      "text/plain": [
       "   exam1score  exam2score  admission\n",
       "0   34.623660   78.024693          0\n",
       "1   30.286711   43.894998          0\n",
       "2   35.847409   72.902198          0\n",
       "3   60.182599   86.308552          1\n",
       "4   79.032736   75.344376          1"
      ]
     },
     "execution_count": 33,
     "metadata": {},
     "output_type": "execute_result"
    }
   ],
   "source": [
    "data[0:5]\n"
   ]
  },
  {
   "cell_type": "markdown",
   "metadata": {},
   "source": [
    "seperate feature and target variables and turn them to numpy arrays"
   ]
  },
  {
   "cell_type": "code",
   "execution_count": 34,
   "metadata": {
    "collapsed": false
   },
   "outputs": [],
   "source": [
    "X = data.drop('admission', axis=1) # extract feature variable\n",
    "y = data['admission'] # extract target variable\n",
    "m = len(y) # how many data-sets \n",
    "X = X.as_matrix()\n",
    "y = y.as_matrix()\n"
   ]
  },
  {
   "cell_type": "markdown",
   "metadata": {},
   "source": [
    "Insert column of ones for $\\theta_0$ intercept parameter"
   ]
  },
  {
   "cell_type": "code",
   "execution_count": 64,
   "metadata": {
    "collapsed": false
   },
   "outputs": [],
   "source": [
    "X = np.insert(X, 0, 1, 1) # insert before index 0, insert 1s on axis 1"
   ]
  },
  {
   "cell_type": "markdown",
   "metadata": {},
   "source": [
    "Plot the data"
   ]
  },
  {
   "cell_type": "code",
   "execution_count": 65,
   "metadata": {
    "collapsed": false
   },
   "outputs": [
    {
     "data": {
      "text/plain": [
       "<matplotlib.legend.Legend at 0x11fb8df98>"
      ]
     },
     "execution_count": 65,
     "metadata": {},
     "output_type": "execute_result"
    },
    {
     "data": {
      "image/png": "[encoded data removed]",
      "text/plain": [
       "<matplotlib.figure.Figure at 0x11d3d0eb8>"
      ]
     },
     "metadata": {},
     "output_type": "display_data"
    }
   ],
   "source": [
    "plt.scatter(X[y == 1, 1], X[y == 1, 2], marker='+', label='admitted')\n",
    "plt.scatter(X[y == 0, 1], X[y == 0, 2], marker='o', label='not admitted')\n",
    "plt.legend()\n"
   ]
  },
  {
   "cell_type": "code",
   "execution_count": 129,
   "metadata": {
    "collapsed": true
   },
   "outputs": [],
   "source": [
    "initial_theta = np.zeros(X.shape[1]);"
   ]
  },
  {
   "cell_type": "markdown",
   "metadata": {},
   "source": [
    "Defining the functions which calculate the cost function and gradient of the cost function for $\\vec{\\theta}$ values."
   ]
  },
  {
   "cell_type": "code",
   "execution_count": 179,
   "metadata": {
    "collapsed": true
   },
   "outputs": [],
   "source": [
    "def sigmoid(theta, X):\n",
    "    \"\"\"\n",
    "    calcuates sigmoid function 1/(1+e^-(theta^T X))\n",
    "    \"\"\"\n",
    "    thetaT_x = np.matmul(theta, X.transpose())\n",
    "    return 1/(1 + np.exp(-thetaT_x))\n"
   ]
  },
  {
   "cell_type": "code",
   "execution_count": 214,
   "metadata": {
    "collapsed": true
   },
   "outputs": [],
   "source": [
    "def cost_function(theta, args):\n",
    "    \"\"\"\n",
    "    Calculates the value of the cost function J\n",
    "    \"\"\"\n",
    "    X, y = args\n",
    "    m = X.shape[0]\n",
    "    hypothesis = sigmoid(theta, X)\n",
    "    J = 1/m*np.sum(-y*np.log(hypothesis) - (1-y)*np.log(1-hypothesis))\n",
    "    return J\n",
    "\n",
    "def gradient(theta, args):\n",
    "    \"\"\"\n",
    "    Calculates the value of the gradient of the cost \n",
    "    function with respect to the theta vector\n",
    "    \"\"\"\n",
    "    X, y = args\n",
    "    m = X.shape[0]\n",
    "    hypothesis = sigmoid(theta, X)\n",
    "    gradient = 1/m*np.sum((hypothesis-y)*X.transpose(), 1)\n",
    "    return gradient"
   ]
  },
  {
   "cell_type": "markdown",
   "metadata": {},
   "source": [
    "Finding the value of theta which minimizes the cost function."
   ]
  },
  {
   "cell_type": "code",
   "execution_count": 215,
   "metadata": {
    "collapsed": false
   },
   "outputs": [
    {
     "name": "stderr",
     "output_type": "stream",
     "text": [
      "/Users/ajs3g11/anaconda/envs/python3/lib/python3.6/site-packages/ipykernel/__main__.py:8: RuntimeWarning: divide by zero encountered in log\n",
      "/Users/ajs3g11/anaconda/envs/python3/lib/python3.6/site-packages/ipykernel/__main__.py:8: RuntimeWarning: invalid value encountered in multiply\n"
     ]
    }
   ],
   "source": [
    "result = scipy.optimize.minimize(cost_function, \n",
    "x0=initial_theta, \n",
    "jac=gradient,\n",
    "args= [X, y])\n",
    "\n",
    "theta = result.x"
   ]
  },
  {
   "cell_type": "markdown",
   "metadata": {},
   "source": [
    "Plotting the decision boundary for the classifier which has been fit to the data."
   ]
  },
  {
   "cell_type": "code",
   "execution_count": null,
   "metadata": {
    "collapsed": true
   },
   "outputs": [],
   "source": [
    "x1_plot = np.linspace(min(X[:, 1]), max(X[:, 1]), 100)\n",
    "x2_plot = (-theta[1]*x1_plot - theta[0])/theta[2]"
   ]
  },
  {
   "cell_type": "code",
   "execution_count": 217,
   "metadata": {
    "collapsed": false
   },
   "outputs": [
    {
     "data": {
      "text/plain": [
       "<matplotlib.legend.Legend at 0x1216f4dd8>"
      ]
     },
     "execution_count": 217,
     "metadata": {},
     "output_type": "execute_result"
    },
    {
     "data": {
      "image/png": "[encoded data removed]",
      "text/plain": [
       "<matplotlib.figure.Figure at 0x1215f0438>"
      ]
     },
     "metadata": {},
     "output_type": "display_data"
    }
   ],
   "source": [
    "plt.scatter(X[y == 1, 1], X[y == 1, 2], marker='+', label='admitted')\n",
    "plt.scatter(X[y == 0, 1], X[y == 0, 2], marker='o', label='not admitted')\n",
    "plt.plot(x1_plot, x2_plot, 'k-', label='Decision Boundary')\n",
    "plt.legend()"
   ]
  },
  {
   "cell_type": "markdown",
   "metadata": {},
   "source": [
    "Predicting the target variable for the training data and quantifying the accuracy of the prediction on the training data."
   ]
  },
  {
   "cell_type": "code",
   "execution_count": 218,
   "metadata": {
    "collapsed": true
   },
   "outputs": [],
   "source": [
    "def predict(theta, X):\n",
    "    \"\"\"\n",
    "    Runs the classifier to predict the target variable\n",
    "    as Positive or Negative\n",
    "    \"\"\"\n",
    "    y_pred = np.zeros(X.shape[0])\n",
    "    hypothesis = sigmoid(theta, X)\n",
    "    y_pred[hypothesis >= 0.5] = 1 # set predicted value to \n",
    "    # positive [1] if hypothesis is >= 0.5 (and negative [0] overwise)\n",
    "    return y_pred"
   ]
  },
  {
   "cell_type": "code",
   "execution_count": 208,
   "metadata": {
    "collapsed": true
   },
   "outputs": [],
   "source": [
    "y_pred = predict(theta, X)\n",
    "\n",
    "amount_correct = np.sum(y_pred == y)/ y.shape[0]\n",
    "\n",
    "print(\"Percentage correct: {:.2f}%\".format(amount_correct*100))"
   ]
  },
  {
   "cell_type": "markdown",
   "metadata": {},
   "source": [
    "# Regularised Logistic Regression"
   ]
  },
  {
   "cell_type": "code",
   "execution_count": 395,
   "metadata": {
    "collapsed": true
   },
   "outputs": [],
   "source": [
    "data = pd.read_csv('ex2data2.txt', names=[\"test1_result\", \"test2_result\", \"working\"])"
   ]
  },
  {
   "cell_type": "code",
   "execution_count": 396,
   "metadata": {
    "collapsed": false
   },
   "outputs": [
    {
     "data": {
      "text/html": [
       "<div>\n",
       "<table border=\"1\" class=\"dataframe\">\n",
       "  <thead>\n",
       "    <tr style=\"text-align: right;\">\n",
       "      <th></th>\n",
       "      <th>test1_result</th>\n",
       "      <th>test2_result</th>\n",
       "      <th>working</th>\n",
       "    </tr>\n",
       "  </thead>\n",
       "  <tbody>\n",
       "    <tr>\n",
       "      <th>0</th>\n",
       "      <td>0.051267</td>\n",
       "      <td>0.69956</td>\n",
       "      <td>1</td>\n",
       "    </tr>\n",
       "    <tr>\n",
       "      <th>1</th>\n",
       "      <td>-0.092742</td>\n",
       "      <td>0.68494</td>\n",
       "      <td>1</td>\n",
       "    </tr>\n",
       "    <tr>\n",
       "      <th>2</th>\n",
       "      <td>-0.213710</td>\n",
       "      <td>0.69225</td>\n",
       "      <td>1</td>\n",
       "    </tr>\n",
       "    <tr>\n",
       "      <th>3</th>\n",
       "      <td>-0.375000</td>\n",
       "      <td>0.50219</td>\n",
       "      <td>1</td>\n",
       "    </tr>\n",
       "    <tr>\n",
       "      <th>4</th>\n",
       "      <td>-0.513250</td>\n",
       "      <td>0.46564</td>\n",
       "      <td>1</td>\n",
       "    </tr>\n",
       "  </tbody>\n",
       "</table>\n",
       "</div>"
      ],
      "text/plain": [
       "   test1_result  test2_result  working\n",
       "0      0.051267       0.69956        1\n",
       "1     -0.092742       0.68494        1\n",
       "2     -0.213710       0.69225        1\n",
       "3     -0.375000       0.50219        1\n",
       "4     -0.513250       0.46564        1"
      ]
     },
     "execution_count": 396,
     "metadata": {},
     "output_type": "execute_result"
    }
   ],
   "source": [
    "data[0:5]"
   ]
  },
  {
   "cell_type": "code",
   "execution_count": 397,
   "metadata": {
    "collapsed": false
   },
   "outputs": [],
   "source": [
    "X_original = data.drop('working', axis=1) # extract feature variable\n",
    "y = data['working'] # extract target variable\n",
    "m = len(y) # how many data-sets \n",
    "X_original = X_original.as_matrix()\n",
    "y = y.as_matrix()"
   ]
  },
  {
   "cell_type": "code",
   "execution_count": 398,
   "metadata": {
    "collapsed": true
   },
   "outputs": [],
   "source": [
    "#X = np.insert(X, 0, 1, 1) # insert before index 0, insert 1s on axis 1"
   ]
  },
  {
   "cell_type": "code",
   "execution_count": 433,
   "metadata": {
    "collapsed": false
   },
   "outputs": [
    {
     "data": {
      "text/plain": [
       "<matplotlib.legend.Legend at 0x12332ce80>"
      ]
     },
     "execution_count": 433,
     "metadata": {},
     "output_type": "execute_result"
    },
    {
     "data": {
      "image/png": "[encoded data removed]",
      "text/plain": [
       "<matplotlib.figure.Figure at 0x123244240>"
      ]
     },
     "metadata": {},
     "output_type": "display_data"
    }
   ],
   "source": [
    "plt.scatter(X_original[y == 1, 0], X_original[y == 1, 1], marker='+', label='admitted')\n",
    "plt.scatter(X_original[y == 0, 0], X_original[y == 0, 1], marker='o', label='not admitted')\n",
    "plt.xlim(np.min(X_original[:, 0]*1.1), np.max(X_original[:, 0]*1.1))\n",
    "plt.ylim(np.min(X_original[:, 1]*1.1), np.max(X_original[:, 1]*1.1))\n",
    "plt.legend()"
   ]
  },
  {
   "cell_type": "markdown",
   "metadata": {},
   "source": [
    "mapping features X into X terms for all polynomial terms up to the 6th power and adding columns of ones for $\\theta_0$. "
   ]
  },
  {
   "cell_type": "markdown",
   "metadata": {},
   "source": [
    "i.e. going from \n",
    "\n",
    "X = $\\begin{bmatrix} \n",
    "x_1 \\\\ \n",
    "x_2 \\\\\n",
    "\\end{bmatrix}$\n",
    "\n",
    "to \n",
    "\n",
    "X = $\\begin{bmatrix} \n",
    "1 \\\\ \n",
    "x_1 \\\\ \n",
    "x_2 \\\\\n",
    "x_1^2 \\\\\n",
    "x_1 x_2 \\\\\n",
    "x_2^2 \\\\\n",
    "\\vdots \\\\\n",
    "x_1 x_2^5 \\\\\n",
    "x_2^6 \\\\\n",
    "\\end{bmatrix}$"
   ]
  },
  {
   "cell_type": "code",
   "execution_count": 401,
   "metadata": {
    "collapsed": true
   },
   "outputs": [],
   "source": [
    "def map_feature(X, n_power):\n",
    "    X1 = X[:, 0]\n",
    "    X2 = X[:, 1]\n",
    "    X_new = np.ones(X.shape[0])\n",
    "    for i in range(1, n_power+1):\n",
    "        for j in range(0, i+1):\n",
    "            X_new = np.vstack([X_new, X1**(i-j)*X2**(j)])\n",
    "    X_new = X_new.transpose() # swap rows to columns \n",
    "    return X_new"
   ]
  },
  {
   "cell_type": "code",
   "execution_count": 402,
   "metadata": {
    "collapsed": false
   },
   "outputs": [],
   "source": [
    "X = map_feature(X_original, 6) "
   ]
  },
  {
   "cell_type": "code",
   "execution_count": 403,
   "metadata": {
    "collapsed": false
   },
   "outputs": [
    {
     "data": {
      "text/plain": [
       "(118, 28)"
      ]
     },
     "execution_count": 403,
     "metadata": {},
     "output_type": "execute_result"
    }
   ],
   "source": [
    "X.shape"
   ]
  },
  {
   "cell_type": "code",
   "execution_count": 404,
   "metadata": {
    "collapsed": true
   },
   "outputs": [],
   "source": [
    "def cost_function(theta, args):\n",
    "    \"\"\"\n",
    "    Calculates the value of the cost function J\n",
    "    \"\"\"\n",
    "    X, y, lamda = args\n",
    "    m = X.shape[0]\n",
    "    hypothesis = sigmoid(theta, X)\n",
    "    J = 1/m*np.sum(-y*np.log(hypothesis) - (1-y)*np.log(1-hypothesis)) \\\n",
    "    + lamda/(2*m)*np.sum(theta[1:]**2)\n",
    "    return J\n",
    "\n",
    "def gradient(theta, args):\n",
    "    \"\"\"\n",
    "    Calculates the value of the gradient of the cost \n",
    "    function with respect to the theta vector\n",
    "    \"\"\"\n",
    "    X, y, lamda = args\n",
    "    m = X.shape[0]\n",
    "    theta_cut = np.copy(theta)\n",
    "    theta_cut[0] = 0\n",
    "    hypothesis = sigmoid(theta, X)\n",
    "    gradient = 1/m*np.sum((hypothesis-y)*X.transpose(), 1) + lamda/m*theta_cut\n",
    "    return gradient"
   ]
  },
  {
   "cell_type": "code",
   "execution_count": 405,
   "metadata": {
    "collapsed": false
   },
   "outputs": [
    {
     "data": {
      "text/plain": [
       "array([ 0.,  0.,  0.,  0.,  0.,  0.,  0.,  0.,  0.,  0.,  0.,  0.,  0.,\n",
       "        0.,  0.,  0.,  0.,  0.,  0.,  0.,  0.,  0.,  0.,  0.,  0.,  0.,\n",
       "        0.,  0.])"
      ]
     },
     "execution_count": 405,
     "metadata": {},
     "output_type": "execute_result"
    }
   ],
   "source": [
    "initial_theta"
   ]
  },
  {
   "cell_type": "code",
   "execution_count": 406,
   "metadata": {
    "collapsed": false
   },
   "outputs": [],
   "source": [
    "initial_theta = np.zeros(X.shape[1]);\n",
    "\n",
    "lamda = 1\n",
    "result = scipy.optimize.minimize(cost_function, \n",
    "x0=initial_theta, \n",
    "jac=gradient,\n",
    "args= [X, y, lamda])\n",
    "\n",
    "theta = result.x"
   ]
  },
  {
   "cell_type": "code",
   "execution_count": 408,
   "metadata": {
    "collapsed": false
   },
   "outputs": [
    {
     "name": "stdout",
     "output_type": "stream",
     "text": [
      "Percentage correct: 83.05%\n"
     ]
    }
   ],
   "source": [
    "y_pred = predict(theta, X)\n",
    "\n",
    "amount_correct = np.sum(y_pred == y)/ y.shape[0]\n",
    "\n",
    "print(\"Percentage correct: {:.2f}%\".format(amount_correct*100))"
   ]
  },
  {
   "cell_type": "markdown",
   "metadata": {},
   "source": [
    "Solving this complex non-linear equation we have fitted for x2, given the value of x1 is non-trivial, instead we will calculate the values of the predicted y on a x1,x2 grid to find where the decision boundary occurs."
   ]
  },
  {
   "cell_type": "code",
   "execution_count": 424,
   "metadata": {
    "collapsed": false
   },
   "outputs": [],
   "source": [
    "n = 300  # number of point along edge of mesh\n",
    "# create a mesh to plot in\n",
    "x_min, x_max = X_original[:, 0].min() - 1, X_original[:, 0].max() + 1\n",
    "y_min, y_max = X_original[:, 1].min() - 1, X_original[:, 1].max() + 1\n",
    "xx, yy = np.meshgrid(np.linspace(x_min, x_max, n),\n",
    "                     np.linspace(y_min, y_max, n))\n",
    "\n",
    "X_grid = np.vstack([xx.ravel(), yy.ravel()]) # create feature data for mesh\n",
    "X_grid = X_grid.transpose() # flip to correct row-column dimensions\n",
    "\n",
    "X_grid = map_feature(X_grid, 6) # map to higher order polynomial terms\n",
    "\n",
    "Z = predict(theta, X_grid) # predict target variable on grid\n",
    "\n",
    "Z = Z.reshape(xx.shape) # reshape to match shape of xx and yy grid "
   ]
  },
  {
   "cell_type": "code",
   "execution_count": 434,
   "metadata": {
    "collapsed": false
   },
   "outputs": [
    {
     "data": {
      "text/plain": [
       "<matplotlib.legend.Legend at 0x12343efd0>"
      ]
     },
     "execution_count": 434,
     "metadata": {},
     "output_type": "execute_result"
    },
    {
     "data": {
      "image/png": "[encoded data removed]",
      "text/plain": [
       "<matplotlib.figure.Figure at 0x1232fc518>"
      ]
     },
     "metadata": {},
     "output_type": "display_data"
    }
   ],
   "source": [
    "plt.scatter(X[y == 1, 1], X[y == 1, 2], marker='+', label='admitted')\n",
    "plt.scatter(X[y == 0, 1], X[y == 0, 2], marker='o', label='not admitted')\n",
    "plt.contour(xx, yy, Z, cmap=plt.cm.Paired)\n",
    "plt.xlim(np.min(X_original[:, 0]*1.1), np.max(X_original[:, 0]*1.1))\n",
    "plt.ylim(np.min(X_original[:, 1]*1.1), np.max(X_original[:, 1]*1.1))\n",
    "plt.legend()"
   ]
  },
  {
   "cell_type": "markdown",
   "metadata": {},
   "source": [
    "We can see that this decision boundary seems sensible, neither overfitted nor underfitted."
   ]
  },
  {
   "cell_type": "markdown",
   "metadata": {},
   "source": [
    "#### Below we repeat this with $\\lambda = 0$ (i.e. no regularisation) and we get a result which is overfit"
   ]
  },
  {
   "cell_type": "code",
   "execution_count": 435,
   "metadata": {
    "collapsed": false
   },
   "outputs": [
    {
     "name": "stdout",
     "output_type": "stream",
     "text": [
      "Percentage correct: 91.53%\n"
     ]
    },
    {
     "name": "stderr",
     "output_type": "stream",
     "text": [
      "/Users/ajs3g11/anaconda/envs/python3/lib/python3.6/site-packages/ipykernel/__main__.py:6: RuntimeWarning: overflow encountered in exp\n"
     ]
    },
    {
     "data": {
      "text/plain": [
       "<matplotlib.legend.Legend at 0x12366dd30>"
      ]
     },
     "execution_count": 435,
     "metadata": {},
     "output_type": "execute_result"
    },
    {
     "data": {
      "image/png": "[encoded data removed]",
      "text/plain": [
       "<matplotlib.figure.Figure at 0x12339ad30>"
      ]
     },
     "metadata": {},
     "output_type": "display_data"
    }
   ],
   "source": [
    "initial_theta = np.zeros(X.shape[1]);\n",
    "\n",
    "lamda = 0\n",
    "result = scipy.optimize.minimize(cost_function, \n",
    "x0=initial_theta, \n",
    "jac=gradient,\n",
    "args= [X, y, lamda])\n",
    "\n",
    "theta = result.x\n",
    "\n",
    "# --------\n",
    "\n",
    "y_pred = predict(theta, X)\n",
    "\n",
    "amount_correct = np.sum(y_pred == y)/ y.shape[0]\n",
    "\n",
    "print(\"Percentage correct: {:.2f}%\".format(amount_correct*100))\n",
    "\n",
    "# --------\n",
    "\n",
    "n = 300  # number of point along edge of mesh\n",
    "# create a mesh to plot in\n",
    "x_min, x_max = X_original[:, 0].min() - 1, X_original[:, 0].max() + 1\n",
    "y_min, y_max = X_original[:, 1].min() - 1, X_original[:, 1].max() + 1\n",
    "xx, yy = np.meshgrid(np.linspace(x_min, x_max, n),\n",
    "                     np.linspace(y_min, y_max, n))\n",
    "\n",
    "X_grid = np.vstack([xx.ravel(), yy.ravel()]) # create feature data for mesh\n",
    "X_grid = X_grid.transpose() # flip to correct row-column dimensions\n",
    "\n",
    "X_grid = map_feature(X_grid, 6) # map to higher order polynomial terms\n",
    "\n",
    "Z = predict(theta, X_grid) # predict target variable on grid\n",
    "\n",
    "Z = Z.reshape(xx.shape) # reshape to match shape of xx and yy grid \n",
    "\n",
    "# --------\n",
    "\n",
    "plt.scatter(X[y == 1, 1], X[y == 1, 2], marker='+', label='admitted')\n",
    "plt.scatter(X[y == 0, 1], X[y == 0, 2], marker='o', label='not admitted')\n",
    "plt.contour(xx, yy, Z, cmap=plt.cm.Paired)\n",
    "plt.xlim(np.min(X_original[:, 0]*1.1), np.max(X_original[:, 0]*1.1))\n",
    "plt.ylim(np.min(X_original[:, 1]*1.1), np.max(X_original[:, 1]*1.1))\n",
    "plt.legend()\n"
   ]
  },
  {
   "cell_type": "markdown",
   "metadata": {},
   "source": [
    "#### Now we repeat this with $\\lambda = 100$ and we get a result which is underfit as we have penalised the $\\theta$ values too highly."
   ]
  },
  {
   "cell_type": "code",
   "execution_count": 437,
   "metadata": {
    "collapsed": false
   },
   "outputs": [
    {
     "name": "stdout",
     "output_type": "stream",
     "text": [
      "Percentage correct: 61.02%\n"
     ]
    },
    {
     "data": {
      "text/plain": [
       "<matplotlib.legend.Legend at 0x12570d978>"
      ]
     },
     "execution_count": 437,
     "metadata": {},
     "output_type": "execute_result"
    },
    {
     "data": {
      "image/png": "[encoded data removed]",
      "text/plain": [
       "<matplotlib.figure.Figure at 0x1253e5898>"
      ]
     },
     "metadata": {},
     "output_type": "display_data"
    }
   ],
   "source": [
    "initial_theta = np.zeros(X.shape[1]);\n",
    "\n",
    "lamda = 100\n",
    "result = scipy.optimize.minimize(cost_function, \n",
    "x0=initial_theta, \n",
    "jac=gradient,\n",
    "args= [X, y, lamda])\n",
    "\n",
    "theta = result.x\n",
    "\n",
    "# --------\n",
    "\n",
    "y_pred = predict(theta, X)\n",
    "\n",
    "amount_correct = np.sum(y_pred == y)/ y.shape[0]\n",
    "\n",
    "print(\"Percentage correct: {:.2f}%\".format(amount_correct*100))\n",
    "\n",
    "# --------\n",
    "\n",
    "n = 300  # number of point along edge of mesh\n",
    "# create a mesh to plot in\n",
    "x_min, x_max = X_original[:, 0].min() - 1, X_original[:, 0].max() + 1\n",
    "y_min, y_max = X_original[:, 1].min() - 1, X_original[:, 1].max() + 1\n",
    "xx, yy = np.meshgrid(np.linspace(x_min, x_max, n),\n",
    "                     np.linspace(y_min, y_max, n))\n",
    "\n",
    "X_grid = np.vstack([xx.ravel(), yy.ravel()]) # create feature data for mesh\n",
    "X_grid = X_grid.transpose() # flip to correct row-column dimensions\n",
    "\n",
    "X_grid = map_feature(X_grid, 6) # map to higher order polynomial terms\n",
    "\n",
    "Z = predict(theta, X_grid) # predict target variable on grid\n",
    "\n",
    "Z = Z.reshape(xx.shape) # reshape to match shape of xx and yy grid \n",
    "\n",
    "# --------\n",
    "\n",
    "plt.scatter(X[y == 1, 1], X[y == 1, 2], marker='+', label='admitted')\n",
    "plt.scatter(X[y == 0, 1], X[y == 0, 2], marker='o', label='not admitted')\n",
    "plt.contour(xx, yy, Z, cmap=plt.cm.Paired)\n",
    "plt.xlim(np.min(X_original[:, 0]*1.1), np.max(X_original[:, 0]*1.1))\n",
    "plt.ylim(np.min(X_original[:, 1]*1.1), np.max(X_original[:, 1]*1.1))\n",
    "plt.legend()"
   ]
  },
  {
   "cell_type": "code",
   "execution_count": null,
   "metadata": {
    "collapsed": true
   },
   "outputs": [],
   "source": []
  }
 ],
 "metadata": {
  "kernelspec": {
   "display_name": "Python 3",
   "language": "python",
   "name": "python3"
  },
  "language_info": {
   "codemirror_mode": {
    "name": "ipython",
    "version": 3
   },
   "file_extension": ".py",
   "mimetype": "text/x-python",
   "name": "python",
   "nbconvert_exporter": "python",
   "pygments_lexer": "ipython3",
   "version": "3.6.0"
  }
 },
 "nbformat": 4,
 "nbformat_minor": 2
}
